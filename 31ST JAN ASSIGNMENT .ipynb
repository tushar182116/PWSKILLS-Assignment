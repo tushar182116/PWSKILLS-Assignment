{
 "cells": [
  {
   "cell_type": "markdown",
   "id": "292a2364",
   "metadata": {},
   "source": [
    "1. Guido van Rossum in 1991\n",
    "\n",
    "2. multiple programming paradigms beyond object-oriented programming\n",
    "\n",
    "3. yes\n",
    "\n",
    "4..py, .pyc\n",
    "\n",
    "5. yes\n",
    "\n",
    "6.\n"
   ]
  },
  {
   "cell_type": "code",
   "execution_count": 4,
   "id": "9742b9e6",
   "metadata": {},
   "outputs": [
    {
     "name": "stdout",
     "output_type": "stream",
     "text": [
      "3\n"
     ]
    }
   ],
   "source": [
    "blocks = 3\n",
    "if True :\n",
    "    print(blocks)"
   ]
  },
  {
   "cell_type": "markdown",
   "id": "283cfab6",
   "metadata": {},
   "source": [
    "7.# hastag \n",
    "\n",
    "8. -- version\n",
    "\n",
    "9.lambda\n",
    "\n",
    "10.Pip is a package management system used to install and manage software packages written in Python.\n",
    "\n",
    "11.range(),len(),list(),replace(),upper()\n",
    "\n",
    "12.79 charecters\n",
    "\n",
    "13.It is easy to learn and fun to use due to its syntax that reads like English. It has numerous standard libraries such as string operations, internet protocols, web service tools, Machine Learning libraries and operating System Interfaces which help reduce the code to be written by the programmer. Additionally it is free for use even for commercial purposes and supports modules which reduce program maintenance costs.\n",
    "\n",
    "14.Memory management in Python involves a private heap containing all Python objects and data structures. The management of this private heap is ensured internally by the Python memory manager.\n",
    "\n",
    "15.To install Python in Windows and set path variables, download a recent version of Python and check the \"Add Python 3.5 to PATH\" checkbox at the bottom of the setup screen.Alternatively, you may manually add the paths into the Environment variables by closing any open Python files or command prompt terminal windows and running an application setup executable file that matches the one installed in your computer.\n",
    "\n",
    "16.yes"
   ]
  },
  {
   "cell_type": "code",
   "execution_count": null,
   "id": "3970a1a1",
   "metadata": {},
   "outputs": [],
   "source": []
  }
 ],
 "metadata": {
  "kernelspec": {
   "display_name": "Python 3 (ipykernel)",
   "language": "python",
   "name": "python3"
  },
  "language_info": {
   "codemirror_mode": {
    "name": "ipython",
    "version": 3
   },
   "file_extension": ".py",
   "mimetype": "text/x-python",
   "name": "python",
   "nbconvert_exporter": "python",
   "pygments_lexer": "ipython3",
   "version": "3.9.13"
  }
 },
 "nbformat": 4,
 "nbformat_minor": 5
}
